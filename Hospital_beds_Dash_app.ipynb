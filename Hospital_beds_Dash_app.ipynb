{
 "cells": [
  {
   "cell_type": "markdown",
   "id": "ab330a8f",
   "metadata": {},
   "source": [
    "Import Libraries/Packages"
   ]
  },
  {
   "cell_type": "code",
   "execution_count": 3,
   "id": "96970aa7",
   "metadata": {},
   "outputs": [],
   "source": [
    "from dash import Dash, html, dcc, Input, Output  # pip install dash\n",
    "import plotly.express as px\n",
    "import dash_ag_grid as dag\n",
    "import dash_bootstrap_components as dbc   # pip install dash-bootstrap-components\n",
    "import pandas as pd     # pip install pandas\n",
    "import matplotlib      # pip install matplotlib\n",
    "matplotlib.use('agg')\n",
    "import matplotlib.pyplot as plt\n",
    "import base64\n",
    "from io import BytesIO"
   ]
  },
  {
   "cell_type": "markdown",
   "id": "a93d9ebd",
   "metadata": {},
   "source": [
    "Import, clean and join data"
   ]
  },
  {
   "cell_type": "code",
   "execution_count": null,
   "id": "92538d40",
   "metadata": {},
   "outputs": [],
   "source": [
    "year = input('Please enter the year that you want to view between 2014 and 2023') # input the year that you want to display\n",
    "specialism = input('Please enter the specialism that you are interested in from the following list: Accident & Emergency, All Specialties, Allergy, Anaesthetics, Cardiology, Clinical Neurophysiology, Clinical Oncology, Clinical Radiology, Community Grouping, Dental Grouping, Dermatology, Diagnostics Grouping, Learning Disability Grouping, Medical Grouping, Medical Oncology, Mental Health Grouping, Midwifery, Neurology, Obstetrics Grouping, Paediattrics Grouping, Rehabilitation Medicine, Renal Medicine, Respiratory Medicine, Surgery Grouping, Women and Newborn Grouping')\n",
    "df_hosp_beds = pd.read_csv('https://github.com/healthbiodatascientist/Health-Data/blob/main/beds_by_nhs_board-of-treatment_specialty.csv')\n",
    "df_region = pd.read_csv('https://github.com/healthbiodatascientist/Health-Data/blob/main/Health_Boards_(Dec_2020)_Names_and_Codes_in_Scotland.csv') \n",
    "df_filter = df_hosp_beds.loc[df_hosp_beds['SpecialtyName'] == specialism] # filter for A&E beds\n",
    "df_filter_year = df_filter.loc[df_filter['FinancialYear'].str.startswith(year, na=False)] # filter for year\n",
    "df_filternumber = df_filter_year.filter(items=['HB', 'AverageAvailableStaffedBeds', 'PercentageOccupancy', 'AllStaffedBeds', 'AverageOccupiedBeds', 'TotalOccupiedBeds']) # filter for values\n",
    "df_filternumber = df_filternumber.set_index('HB')\n",
    "df_hb_beds = df_filternumber.join(df_region.set_index('HB20CD'), on='HB') # join health board region names\n",
    "df_hb_beds = df_hb_beds.dropna()\n",
    "df_hb_beds = df_hb_beds.filter(items=['HB20NM', 'PercentageOccupancy', 'AverageAvailableStaffedBeds', 'AllStaffedBeds'])"
   ]
  },
  {
   "cell_type": "markdown",
   "id": "7721ee7e",
   "metadata": {},
   "source": [
    "Create App Layout"
   ]
  },
  {
   "cell_type": "code",
   "execution_count": null,
   "id": "e9e8af96",
   "metadata": {},
   "outputs": [],
   "source": [
    "app = Dash(__name__, external_stylesheets=[dbc.themes.BOOTSTRAP])\n",
    "server = app.server\n",
    "app.layout = dbc.Container([\n",
    "    html.H1([specialism, \" Beds Available in Scottish Health Boards \", year], className='mb-2', style={'textAlign':'center'}),\n",
    "    dbc.Row([dbc.Col([dcc.Dropdown(id='category', value='PercentageOccupancy', clearable=False, options=df_hb_beds.columns[1:]) ], width=4)]),\n",
    "    dbc.Row([dbc.Col([html.Img(id='bar-graph-matplotlib')], width=12)]),\n",
    "    dbc.Row([dbc.Col([dcc.Graph(id='bar-graph-plotly', figure={})], width=12, md=6),\n",
    "             dbc.Col([dag.AgGrid(id='grid', rowData=df_hb_beds.to_dict(\"records\"), columnDefs=[{\"field\": i} for i in df_hb_beds.columns], columnSize=\"sizeToFit\",)], width=12, md=6),\n",
    "             ], className='mt-4'),])"
   ]
  },
  {
   "cell_type": "markdown",
   "id": "677294b6",
   "metadata": {},
   "source": [
    "Create interactivity between dropdown component and graph"
   ]
  },
  {
   "cell_type": "code",
   "execution_count": 7,
   "id": "dc8e40a3",
   "metadata": {},
   "outputs": [],
   "source": [
    "@app.callback(\n",
    "    Output(component_id='bar-graph-matplotlib', component_property='src'),\n",
    "    Output('bar-graph-plotly', 'figure'),\n",
    "    Output('grid', 'defaultColDef'),\n",
    "    Input('category', 'value'),\n",
    ")\n",
    "\n",
    "def plot_data(selected_yaxis):\n",
    "\n",
    "    # Build the matplotlib figure\n",
    "    fig = plt.figure(figsize=(14, 6), constrained_layout=True)\n",
    "    plt.bar(df_hb_beds['HB20NM'], df_hb_beds[selected_yaxis], color='blue')\n",
    "    plt.ylabel(selected_yaxis)\n",
    "    plt.xticks(rotation=90)\n",
    "    bar_container = plt.bar(df_hb_beds['HB20NM'], df_hb_beds[selected_yaxis])\n",
    "    plt.bar_label(bar_container, fmt='{:,.0f}')\n",
    "\n",
    "    # Save it to a temporary buffer.\n",
    "    buf = BytesIO()\n",
    "    fig.savefig(buf, format=\"png\")\n",
    "    # Embed the result in the html output.\n",
    "    fig_data = base64.b64encode(buf.getbuffer()).decode(\"ascii\")\n",
    "    fig_bar_matplotlib = f'data:image/png;base64,{fig_data}'\n",
    "\n",
    "    # Build the Plotly figure\n",
    "    fig_bar_plotly = px.bar(df_hb_beds, x='HB20NM', y=selected_yaxis).update_xaxes(tickangle=330)\n",
    "\n",
    "    my_cellStyle = {\n",
    "        \"styleConditions\": [\n",
    "            {\n",
    "                \"condition\": f\"params.colDef.field == '{selected_yaxis}'\",\n",
    "                \"style\": {\"backgroundColor\": \"#d3d3d3\"},\n",
    "            },\n",
    "            {   \"condition\": f\"params.colDef.field != '{selected_yaxis}'\",\n",
    "                \"style\": {\"color\": \"black\"}\n",
    "            },\n",
    "        ]\n",
    "    }\n",
    "\n",
    "    return fig_bar_matplotlib, fig_bar_plotly, {'cellStyle': my_cellStyle}    "
   ]
  },
  {
   "cell_type": "code",
   "execution_count": 8,
   "id": "520b3bb6",
   "metadata": {},
   "outputs": [
    {
     "data": {
      "text/html": [
       "\n",
       "        <iframe\n",
       "            width=\"100%\"\n",
       "            height=\"650\"\n",
       "            src=\"http://127.0.0.1:8002/\"\n",
       "            frameborder=\"0\"\n",
       "            allowfullscreen\n",
       "            \n",
       "        ></iframe>\n",
       "        "
      ],
      "text/plain": [
       "<IPython.lib.display.IFrame at 0x21a48f89940>"
      ]
     },
     "metadata": {},
     "output_type": "display_data"
    }
   ],
   "source": [
    "if __name__ == '__main__':\n",
    "    app.run(debug=False, port=8002)"
   ]
  }
 ],
 "metadata": {
  "kernelspec": {
   "display_name": "base",
   "language": "python",
   "name": "python3"
  },
  "language_info": {
   "codemirror_mode": {
    "name": "ipython",
    "version": 3
   },
   "file_extension": ".py",
   "mimetype": "text/x-python",
   "name": "python",
   "nbconvert_exporter": "python",
   "pygments_lexer": "ipython3",
   "version": "3.13.5"
  }
 },
 "nbformat": 4,
 "nbformat_minor": 5
}
