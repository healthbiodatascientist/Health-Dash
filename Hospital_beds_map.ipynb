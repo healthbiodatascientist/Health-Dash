{
 "cells": [
  {
   "cell_type": "code",
   "execution_count": 1,
   "id": "9c765084",
   "metadata": {},
   "outputs": [],
   "source": [
    "import numpy as np\n",
    "import pandas as pd\n",
    "import geopandas as gpd\n",
    "import matplotlib      # pip install matplotlib\n",
    "matplotlib.use('agg')\n",
    "import matplotlib.pyplot as plt\n",
    "from ipywidgets import interact, interactive, fixed, interact_manual"
   ]
  },
  {
   "cell_type": "code",
   "execution_count": 2,
   "id": "65fc3a48",
   "metadata": {},
   "outputs": [],
   "source": [
    "def table_clean():\n",
    "    df_hosp_beds = pd.read_csv('https://raw.githubusercontent.com/healthbiodatascientist/Health-Dash/refs/heads/main/beds_by_nhs_board-of-treatment_specialty.csv') # Open Public Health Scotland Hospital Beds Data\n",
    "    df_map = gpd.read_file('https://github.com/healthbiodatascientist/Health-Dash/raw/refs/heads/main/SG_NHS_HealthBoards_2019.shp') # Scottish Health Board Region Names and Geometries\n",
    "    df_map = df_map.filter(items=['HBCode', 'HBName', 'geometry']) # filter for the columns we need\n",
    "    df_map = df_map.set_index('HBCode') # set the index to the Health Board Code\n",
    "    df_hb_beds = df_map.join(df_hosp_beds.set_index('HB'), on='HBCode') # Join the tables\n",
    "    df_hb_beds = df_hb_beds.filter(items=['FinancialYear', 'SpecialtyName', 'HBName', 'PercentageOccupancy', 'AverageAvailableStaffedBeds', 'AllStaffedBeds', 'geometry']) # filter\n",
    "    return df_hb_beds\n",
    "df_hb_beds = table_clean()"
   ]
  },
  {
   "cell_type": "code",
   "execution_count": 3,
   "id": "d04c3609",
   "metadata": {},
   "outputs": [],
   "source": [
    "years = np.unique(df_hb_beds['FinancialYear'].values) # setup the values for the filters\n",
    "specialties = np.unique(df_hb_beds['SpecialtyName'].values)"
   ]
  },
  {
   "cell_type": "code",
   "execution_count": 4,
   "id": "22d21b8b",
   "metadata": {},
   "outputs": [],
   "source": [
    "def filter_table(year, specialty):\n",
    "    # filters the table based on the dropdowns and produces the map\n",
    "    df_hb_beds = table_clean()\n",
    "    df_hb_beds = df_hb_beds.loc[df_hb_beds['FinancialYear'].str.startswith(year, na=False)] # filter for year\n",
    "    df_hb_beds = df_hb_beds.loc[df_hb_beds['SpecialtyName'] == specialty] # filter for specialism\n",
    "    df_hb_beds = df_hb_beds.filter(items=['HBName', 'PercentageOccupancy', 'AverageAvailableStaffedBeds', 'AllStaffedBeds', 'geometry'])\n",
    "    mapped = df_hb_beds.explore(column='HBName')\n",
    "    return mapped"
   ]
  },
  {
   "cell_type": "code",
   "execution_count": 5,
   "id": "a21aedd6",
   "metadata": {},
   "outputs": [
    {
     "data": {
      "application/vnd.jupyter.widget-view+json": {
       "model_id": "6266c46005e644baa24a4e80a4ef3f63",
       "version_major": 2,
       "version_minor": 0
      },
      "text/plain": [
       "interactive(children=(Dropdown(description='year', options=('2014/15', '2015/16', '2016/17', '2017/18', '2018/…"
      ]
     },
     "metadata": {},
     "output_type": "display_data"
    },
    {
     "data": {
      "text/plain": [
       "<function __main__.filter_table(year, specialty)>"
      ]
     },
     "execution_count": 5,
     "metadata": {},
     "output_type": "execute_result"
    }
   ],
   "source": [
    "interact(filter_table, year=years, specialty=specialties) # run the function above"
   ]
  }
 ],
 "metadata": {
  "kernelspec": {
   "display_name": "base",
   "language": "python",
   "name": "python3"
  },
  "language_info": {
   "codemirror_mode": {
    "name": "ipython",
    "version": 3
   },
   "file_extension": ".py",
   "mimetype": "text/x-python",
   "name": "python",
   "nbconvert_exporter": "python",
   "pygments_lexer": "ipython3",
   "version": "3.13.5"
  }
 },
 "nbformat": 4,
 "nbformat_minor": 5
}
